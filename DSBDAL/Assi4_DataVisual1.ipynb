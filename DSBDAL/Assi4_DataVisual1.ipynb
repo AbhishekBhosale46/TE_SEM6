{
 "cells": [
  {
   "cell_type": "code",
   "execution_count": null,
   "id": "eb54fc9b-64be-4944-89ce-c50fbf1bbf1d",
   "metadata": {},
   "outputs": [],
   "source": [
    "import pandas as pd\n",
    "import seaborn as sb"
   ]
  },
  {
   "cell_type": "code",
   "execution_count": null,
   "id": "64006635-54aa-4460-939d-7ac32457b1ec",
   "metadata": {},
   "outputs": [],
   "source": [
    "df = pd.read_csv('datasets/titanic.csv')"
   ]
  },
  {
   "cell_type": "code",
   "execution_count": null,
   "id": "03ee6e33-9dbf-4722-8218-46dbd32e3be6",
   "metadata": {},
   "outputs": [],
   "source": [
    "df.head()"
   ]
  },
  {
   "cell_type": "code",
   "execution_count": null,
   "id": "fbbb75dd-7e8f-4774-8db9-fd5442000748",
   "metadata": {},
   "outputs": [],
   "source": [
    "df.info()"
   ]
  },
  {
   "cell_type": "code",
   "execution_count": null,
   "id": "50255664-2739-4bc6-b5a6-b03ec18e7d02",
   "metadata": {},
   "outputs": [],
   "source": [
    "df['Name'] = df['Name'].astype('string')\n",
    "df['Ticket'] = df['Ticket'].astype('string')\n",
    "df['Embarked'] = df['Embarked'].astype('string')\n",
    "df['Cabin'] = df['Cabin'].astype('string')\n",
    "df['Sex'] = df['Sex'].astype('category')\n",
    "df['Age'] = df['Age'].astype(int)"
   ]
  },
  {
   "cell_type": "code",
   "execution_count": null,
   "id": "f96e2eb8-2b5a-4290-a355-21044fe11711",
   "metadata": {},
   "outputs": [],
   "source": [
    "df.info()"
   ]
  },
  {
   "cell_type": "code",
   "execution_count": null,
   "id": "c4c55443-ae4f-493a-a3ac-c6ea02566d01",
   "metadata": {},
   "outputs": [],
   "source": [
    "df.isnull().sum()\n",
    "df.dropna(inplace=True)\n",
    "df.isnull().sum()"
   ]
  },
  {
   "cell_type": "code",
   "execution_count": null,
   "id": "9c33e910-a458-42dd-8e58-f1e4d1f03620",
   "metadata": {},
   "outputs": [],
   "source": [
    "\"\"\"\n",
    "1] Line PLot - A line plot is used to visualize the relationship between two continuous variables over a \n",
    "continuous interval or time period.\n",
    "\"\"\"\n",
    "sb.lineplot(data=df, x='Age', y='Fare')"
   ]
  },
  {
   "cell_type": "code",
   "execution_count": null,
   "id": "5db3b0b9-f311-442a-98a2-684855184f20",
   "metadata": {},
   "outputs": [],
   "source": [
    "\"\"\"\n",
    "2] Scatter Plot - A scatter plot is used to visualize the relationship between two continuous variables. \n",
    "Each point represents an observation in the dataset.\n",
    "\"\"\"\n",
    "sb.scatterplot(data=df, x='Age', y='Fare')"
   ]
  },
  {
   "cell_type": "code",
   "execution_count": null,
   "id": "566a6172-1d65-4547-9f71-b01235bb5522",
   "metadata": {},
   "outputs": [],
   "source": [
    "\"\"\"\n",
    "3] Box Plot - A box plot is used to visualize the distribution of a continuous variable, showing the median, \n",
    "quartiles, and potential outliers.\n",
    "\"\"\"\n",
    "# sb.boxplot(df['Age'])\n",
    "# sb.boxplot(df['Fare'])\n",
    "# sb.boxplot(data=df, x='Sex', y='Age')\n",
    "# sb.boxplot(data=df, x='Sex', y='Fare')\n",
    "sb.boxplot(data=df, x='Embarked', y='Fare')"
   ]
  },
  {
   "cell_type": "code",
   "execution_count": null,
   "id": "56de220d-eb25-42c1-a7a0-384d367ef494",
   "metadata": {},
   "outputs": [],
   "source": [
    "\"\"\"\n",
    "4] Count Plot - A count plot is used to visualize the count of observations in each category of a categorical variable.\n",
    "\"\"\"\n",
    "sb.countplot(data=df, x='Pclass', hue='Survived')"
   ]
  },
  {
   "cell_type": "code",
   "execution_count": null,
   "id": "511575d2-8d0b-4128-8923-d08ea1165436",
   "metadata": {},
   "outputs": [],
   "source": [
    "\"\"\"\n",
    "5] Hist Plot - A histogram is a type of chart that shows the frequency distribution of data points across \n",
    "a continuous range of numerical values.\n",
    "\"\"\"\n",
    "sb.histplot(data=df, x='Fare', bins=40)"
   ]
  },
  {
   "cell_type": "code",
   "execution_count": null,
   "id": "cbff15d8-182c-44f8-b298-57c960b414ba",
   "metadata": {},
   "outputs": [],
   "source": [
    "\"\"\"\n",
    "Numeric Data: Age, Fare\n",
    "Nominal(Categorical) : Sex, Embarked, Pclass, Survived\n",
    "\"\"\""
   ]
  }
 ],
 "metadata": {
  "kernelspec": {
   "display_name": "Python 3 (ipykernel)",
   "language": "python",
   "name": "python3"
  },
  "language_info": {
   "codemirror_mode": {
    "name": "ipython",
    "version": 3
   },
   "file_extension": ".py",
   "mimetype": "text/x-python",
   "name": "python",
   "nbconvert_exporter": "python",
   "pygments_lexer": "ipython3",
   "version": "3.10.6"
  }
 },
 "nbformat": 4,
 "nbformat_minor": 5
}
