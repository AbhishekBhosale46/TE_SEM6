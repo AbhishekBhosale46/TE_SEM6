{
 "cells": [
  {
   "cell_type": "code",
   "execution_count": null,
   "id": "dacf6722-2080-48cc-9f25-e3ca9334fd90",
   "metadata": {},
   "outputs": [],
   "source": [
    "import pandas as pd"
   ]
  },
  {
   "cell_type": "code",
   "execution_count": null,
   "id": "0ebd66cd-99b1-4475-91b7-46b0b6694573",
   "metadata": {},
   "outputs": [],
   "source": [
    "df = pd.read_csv(\"datasets/Social_Network_Ads.csv\")"
   ]
  },
  {
   "cell_type": "code",
   "execution_count": null,
   "id": "1a425db2-4ec7-4875-b737-be9c3d5c760c",
   "metadata": {},
   "outputs": [],
   "source": [
    "df.head()"
   ]
  },
  {
   "cell_type": "code",
   "execution_count": null,
   "id": "26024eaa-7635-4f12-9507-3999a404621a",
   "metadata": {},
   "outputs": [],
   "source": [
    "df.info()"
   ]
  },
  {
   "cell_type": "code",
   "execution_count": null,
   "id": "e487d35f-1935-4e02-87d9-b53ad7e07490",
   "metadata": {},
   "outputs": [],
   "source": [
    "df.isnull().sum()"
   ]
  },
  {
   "cell_type": "code",
   "execution_count": null,
   "id": "5b6e85b8-662a-4f7b-8afa-66be906313e8",
   "metadata": {},
   "outputs": [],
   "source": [
    "print(\"Numeric features : \", df.select_dtypes(include=['int64']).columns)\n",
    "print(\"Nominal features : \", df.select_dtypes(exclude=['int64']).columns)"
   ]
  },
  {
   "cell_type": "code",
   "execution_count": null,
   "id": "da5fbcf1-cf22-479c-9a64-62cf87dbc2ef",
   "metadata": {},
   "outputs": [],
   "source": [
    "\"\"\"\n",
    "Encoding categorical variables\n",
    "\"\"\"\n",
    "\n",
    "df['Gender'].replace(['Male', 'Female'], [1, 0], inplace=True)\n",
    "df.info()\n",
    "\n",
    "from sklearn import preprocessing\n",
    "lable_encoder = preprocessing.LabelEncoder()\n",
    "df['Gender'] = lable_encoder.fit_transform(df['Gender'])"
   ]
  },
  {
   "cell_type": "code",
   "execution_count": null,
   "id": "db910a56-22e7-4ea6-9d63-70027000f6ef",
   "metadata": {},
   "outputs": [],
   "source": [
    "\"\"\"\n",
    "Split into features and target variables\n",
    "\"\"\"\n",
    "X = df.drop(columns=['User ID', 'Purchased'])\n",
    "Y = df[['Purchased']]"
   ]
  },
  {
   "cell_type": "code",
   "execution_count": null,
   "id": "566945c5-5df0-47a5-97c5-4bae7879363d",
   "metadata": {},
   "outputs": [],
   "source": [
    "\"\"\"\n",
    "Split into train and test\n",
    "\"\"\"\n",
    "from sklearn.model_selection import train_test_split\n",
    "\n",
    "X_train, X_test, Y_train, Y_test = train_test_split(X, Y, test_size=0.2)"
   ]
  },
  {
   "cell_type": "code",
   "execution_count": null,
   "id": "686a0a15-81c3-4560-89e6-4667917f0b49",
   "metadata": {},
   "outputs": [],
   "source": [
    "\"\"\"\n",
    "Feature scaling, StandardScaler is a preprocessing technique used in machine learning to standardize features by removing the \n",
    "mean and scaling to unit variance. It transforms the data in such a way that it has a mean of 0 and a standard deviation of 1.\n",
    "\"\"\"\n",
    "from sklearn.preprocessing import StandardScaler\n",
    "\n",
    "scaler = StandardScaler()\n",
    "X_train['EstimatedSalary'] = scaler.fit_transform(X_train[['EstimatedSalary']])\n",
    "X_test['EstimatedSalary'] = scaler.fit_transform(X_test[['EstimatedSalary']])"
   ]
  },
  {
   "cell_type": "code",
   "execution_count": null,
   "id": "2b7e563e-db8d-424b-a74d-a35dc6add320",
   "metadata": {},
   "outputs": [],
   "source": [
    "\"\"\"\n",
    "Training the model\n",
    "\"\"\"\n",
    "from sklearn.linear_model import LogisticRegression\n",
    "\n",
    "model = LogisticRegression()\n",
    "model.fit(X_train, Y_train)\n",
    "\n",
    "Y_pred = model.predict(X_test)"
   ]
  },
  {
   "cell_type": "code",
   "execution_count": null,
   "id": "4aedaac6-f80a-433f-a486-4b24ae0dfcbe",
   "metadata": {},
   "outputs": [],
   "source": [
    "\"\"\"\n",
    "Calculating metrics\n",
    "\"\"\"\n",
    "from sklearn.metrics import mean_squared_error, accuracy_score, confusion_matrix, classification_report\n",
    "\n",
    "mse = mean_squared_error(Y_test, Y_pred)\n",
    "print(\"MSE : \", mse)\n",
    "accuracy = accuracy_score(Y_test, Y_pred)\n",
    "print(\"Accuracy : \", accuracy)\n",
    "\n",
    "conf_matrix = confusion_matrix(Y_test, Y_pred)\n",
    "print(conf_matrix)\n",
    "\n",
    "TN, FP, FN, TP = conf_matrix.ravel()\n",
    "precision = TP / (TP + FP)\n",
    "recall = TP / (TP + FN)\n",
    "f1_score = 2 * (precision * recall) / (precision + recall)\n",
    "error_rate = (FP + FN) / (TP + TN + FP + FN)\n",
    "\n",
    "print(\"True negative : \", TN)\n",
    "print(\"False positive : \", FP)\n",
    "print(\"False negative : \", FN)\n",
    "print(\"True positive : \", TP)\n",
    "print(\"Precision : \", precision)\n",
    "print(\"Recall : \", recall)\n",
    "print(\"F1 Score : \", f1_score)\n",
    "print(\"Error rate : \", error_rate)"
   ]
  },
  {
   "cell_type": "code",
   "execution_count": null,
   "id": "7966be2d-691a-45a8-96b8-21fa9afc9f93",
   "metadata": {},
   "outputs": [],
   "source": []
  },
  {
   "cell_type": "code",
   "execution_count": null,
   "id": "3f3ebe1f-46ed-41be-b507-48a69d088abb",
   "metadata": {},
   "outputs": [],
   "source": []
  }
 ],
 "metadata": {
  "kernelspec": {
   "display_name": "Python 3 (ipykernel)",
   "language": "python",
   "name": "python3"
  },
  "language_info": {
   "codemirror_mode": {
    "name": "ipython",
    "version": 3
   },
   "file_extension": ".py",
   "mimetype": "text/x-python",
   "name": "python",
   "nbconvert_exporter": "python",
   "pygments_lexer": "ipython3",
   "version": "3.10.6"
  }
 },
 "nbformat": 4,
 "nbformat_minor": 5
}
