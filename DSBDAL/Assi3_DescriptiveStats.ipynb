{
 "cells": [
  {
   "cell_type": "code",
   "execution_count": null,
   "id": "2e4bc789-10be-4c95-8f48-c1445975bce8",
   "metadata": {},
   "outputs": [],
   "source": [
    "import pandas as pd"
   ]
  },
  {
   "cell_type": "code",
   "execution_count": null,
   "id": "4054d87e-d769-4514-b92b-efcba4fef50e",
   "metadata": {},
   "outputs": [],
   "source": [
    "df = pd.read_csv('datasets/nba.csv')"
   ]
  },
  {
   "cell_type": "code",
   "execution_count": null,
   "id": "87d62195-b6f2-4def-8f4b-1c12a6b987fc",
   "metadata": {},
   "outputs": [],
   "source": [
    "df.head(10)"
   ]
  },
  {
   "cell_type": "code",
   "execution_count": null,
   "id": "233c207b-4854-4720-9938-7c8410c1add8",
   "metadata": {},
   "outputs": [],
   "source": [
    "df.info()"
   ]
  },
  {
   "cell_type": "code",
   "execution_count": null,
   "id": "4f7577c0-33bd-451b-99fc-a0e83043fd35",
   "metadata": {},
   "outputs": [],
   "source": [
    "df.describe()"
   ]
  },
  {
   "cell_type": "code",
   "execution_count": null,
   "id": "1761555b-69eb-4ef1-a7b5-eb54e75a2630",
   "metadata": {},
   "outputs": [],
   "source": [
    "df['Age'].describe()"
   ]
  },
  {
   "cell_type": "code",
   "execution_count": null,
   "id": "06fa9652-7a4f-4015-acdf-b3bb3df3af53",
   "metadata": {},
   "outputs": [],
   "source": [
    "df['Weight'].describe()"
   ]
  },
  {
   "cell_type": "code",
   "execution_count": null,
   "id": "d5077c39-19de-4f49-a6dc-3f35c8f41a4f",
   "metadata": {},
   "outputs": [],
   "source": [
    "df['Age'].value_counts()"
   ]
  },
  {
   "cell_type": "code",
   "execution_count": null,
   "id": "f65299b5-861e-4bcc-a9bd-ef01759736f4",
   "metadata": {},
   "outputs": [],
   "source": [
    "df['Team'].value_counts()"
   ]
  },
  {
   "cell_type": "code",
   "execution_count": null,
   "id": "407c1969-a2fb-4679-9081-04beb1bec735",
   "metadata": {},
   "outputs": [],
   "source": [
    "gp_by_position = df.groupby('Position')\n",
    "gp_by_team = df.groupby('Team')\n",
    "gp_by_age = df.groupby('Age')\n",
    "gp_by_position_team = df.groupby(['Position', 'Team'])"
   ]
  },
  {
   "cell_type": "code",
   "execution_count": null,
   "id": "7c3bc766-793b-4282-b8c2-9485de0a37ff",
   "metadata": {},
   "outputs": [],
   "source": [
    "gp_by_position.first()"
   ]
  },
  {
   "cell_type": "code",
   "execution_count": null,
   "id": "4d5ac8e8-42af-46d4-ae61-314d92305ffa",
   "metadata": {},
   "outputs": [],
   "source": [
    "gp_by_team.first()"
   ]
  },
  {
   "cell_type": "code",
   "execution_count": null,
   "id": "4f8cd8ba-4314-4bc6-af0e-ea0f3d55d749",
   "metadata": {},
   "outputs": [],
   "source": [
    "gp_by_age.first()"
   ]
  },
  {
   "cell_type": "code",
   "execution_count": null,
   "id": "e4168e47-ef63-41ba-b4ed-b957b543b722",
   "metadata": {},
   "outputs": [],
   "source": [
    "gp_by_position_team.first().tail(20)"
   ]
  },
  {
   "cell_type": "code",
   "execution_count": null,
   "id": "6c503e6c-e931-4e0b-8efe-29117b6d7126",
   "metadata": {},
   "outputs": [],
   "source": [
    "gp_by_position.get_group('C')"
   ]
  },
  {
   "cell_type": "code",
   "execution_count": null,
   "id": "727edeee-0aba-4a01-ab31-c76fb978cf87",
   "metadata": {},
   "outputs": [],
   "source": [
    "gp_by_team.get_group('Utah Jazz')"
   ]
  },
  {
   "cell_type": "code",
   "execution_count": null,
   "id": "5bb6b76d-4281-4b4f-aaa3-f5fabc8318da",
   "metadata": {},
   "outputs": [],
   "source": [
    "gp_by_position['Age'].describe()"
   ]
  },
  {
   "cell_type": "code",
   "execution_count": null,
   "id": "f7335bec-abd1-4a7b-9163-808131803192",
   "metadata": {},
   "outputs": [],
   "source": [
    "gp_by_team['Weight'].describe()"
   ]
  }
 ],
 "metadata": {
  "kernelspec": {
   "display_name": "Python 3 (ipykernel)",
   "language": "python",
   "name": "python3"
  },
  "language_info": {
   "codemirror_mode": {
    "name": "ipython",
    "version": 3
   },
   "file_extension": ".py",
   "mimetype": "text/x-python",
   "name": "python",
   "nbconvert_exporter": "python",
   "pygments_lexer": "ipython3",
   "version": "3.10.6"
  }
 },
 "nbformat": 4,
 "nbformat_minor": 5
}
