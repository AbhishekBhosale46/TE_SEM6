{
 "cells": [
  {
   "cell_type": "code",
   "execution_count": null,
   "id": "5c58ab0c-4b65-45f9-b4f0-3d6b945d3d56",
   "metadata": {},
   "outputs": [],
   "source": [
    "import pandas as pd\n",
    "import numpy as np"
   ]
  },
  {
   "cell_type": "code",
   "execution_count": null,
   "id": "be16f801-9310-4bb0-8297-7e0325255e80",
   "metadata": {},
   "outputs": [],
   "source": [
    "df = pd.read_csv('datasets/StudentsPerformance_modified.csv')"
   ]
  },
  {
   "cell_type": "code",
   "execution_count": null,
   "id": "7702ddf0-97c2-4075-a532-5ede8376c2ba",
   "metadata": {},
   "outputs": [],
   "source": [
    "print(df.head(10).to_string())"
   ]
  },
  {
   "cell_type": "code",
   "execution_count": null,
   "id": "83cbc8a0-0cb5-45f5-9543-efe2a8390dd9",
   "metadata": {},
   "outputs": [],
   "source": [
    "print(\"(Rows, Cols) :\", df.shape)"
   ]
  },
  {
   "cell_type": "code",
   "execution_count": null,
   "id": "4af20947-6488-47f3-b5ac-614ecf165f18",
   "metadata": {},
   "outputs": [],
   "source": [
    "print(\"Total cells :\", df.size)"
   ]
  },
  {
   "cell_type": "code",
   "execution_count": null,
   "id": "dd4886c5-deef-451a-a460-6527a2af9542",
   "metadata": {},
   "outputs": [],
   "source": [
    "print(df.dtypes)"
   ]
  },
  {
   "cell_type": "code",
   "execution_count": null,
   "id": "f9713cfe-d760-4a27-b6aa-b0b49fbade01",
   "metadata": {},
   "outputs": [],
   "source": [
    "print(df.info())"
   ]
  },
  {
   "cell_type": "code",
   "execution_count": null,
   "id": "2408c02c-9003-4313-a22f-72c8ea130399",
   "metadata": {},
   "outputs": [],
   "source": [
    "# Provides statistics for numerical columns\n",
    "print(df.describe())"
   ]
  },
  {
   "cell_type": "code",
   "execution_count": null,
   "id": "ecee5b44-efd7-4d1d-80d5-ddfb8caf926d",
   "metadata": {},
   "outputs": [],
   "source": [
    "# Data type conversion\n",
    "\n",
    "# converts to numeric, if any cell has non-numeric then fills it with NaN, then fill or drop the NaN cells\n",
    "df['math score'] = pd.to_numeric(df['math score'], errors=\"coerce\")\n",
    "df.dropna(subset=[\"math score\"], inplace=True)\n",
    "\n",
    "# convert object to categorical \n",
    "df['gender'] = df['gender'].astype('category')\n",
    "df['race/ethnicity'] = df['race/ethnicity'].astype('category')\n",
    "df['lunch'] = df['lunch'].astype('category')"
   ]
  },
  {
   "cell_type": "code",
   "execution_count": null,
   "id": "9016decf-fba9-41b0-b6cf-785e27a86bf4",
   "metadata": {},
   "outputs": [],
   "source": [
    "# Returns a same dataframe, but with true/false if null values present\n",
    "df.isnull()"
   ]
  },
  {
   "cell_type": "code",
   "execution_count": null,
   "id": "c3e6722a-6ee3-43a8-97af-af9753c3dba1",
   "metadata": {},
   "outputs": [],
   "source": [
    "# Count of null values in each column\n",
    "df.isnull().sum()"
   ]
  },
  {
   "cell_type": "code",
   "execution_count": null,
   "id": "0374b819-ffde-4705-9810-1ef09db4af56",
   "metadata": {},
   "outputs": [],
   "source": [
    "# Removing null values\n",
    "\n",
    "# 1] Remove the entire row\n",
    "df.dropna(inplace=True)\n",
    "\n",
    "# 2] Replace with mean, median, mode\n",
    "reading_score_mean = df['reading score'].mean()\n",
    "writing_score_mean = df['writing score'].mean()\n",
    "df['reading score'].fillna(reading_score_mean, inplace=True)\n",
    "df['writing score'].fillna(writing_score_mean, inplace=True)\n",
    "\n",
    "# 3] Using forward fill or backward fill\n",
    "df.ffill(inplace=True)\n",
    "df.bfill(inplace=True)"
   ]
  },
  {
   "cell_type": "code",
   "execution_count": null,
   "id": "4cf44b60-73a0-45e2-a501-377a42695895",
   "metadata": {},
   "outputs": [],
   "source": [
    "# Converting categorical variables to quantitative variables\n",
    "\n",
    "# 1] One hot encoding - Creates binary columns for each category in a categorical variable, with 1s indicating the presence of a category and 0s indicating the absence.\n",
    "df_encoded = pd.get_dummies(df, columns = ['gender', 'lunch', 'race/ethnicity'])\n",
    "df_encoded.info()\n",
    "df.head(5).to_string()\n",
    "\n",
    "# 2] Label encoding - Label encoding assigns a unique integer to each category in a categorical variable.\n",
    "from sklearn.preprocessing import LabelEncoder\n",
    "label_encoder = LabelEncoder()\n",
    "df['gender'] = label_encoder.fit_transform(df['gender'])\n",
    "df.head(5).to_string()"
   ]
  },
  {
   "cell_type": "code",
   "execution_count": null,
   "id": "f3d9a534-4a1f-4ea5-a544-04b51d29c1d9",
   "metadata": {},
   "outputs": [],
   "source": [
    "# Normalization\n",
    "\n",
    "columns_to_normalize1 = ['math score']\n",
    "\n",
    "# 1] MinMax normalization - It rescales the values of a numerical variable to a fixed range, typically between 0 and 1.\n",
    "for column in columns_to_normalize1:\n",
    "    df[column] = (df[column] - df[column].min()) / (df[column].max() - df[column].min())\n",
    "df.head(5).to_string()\n",
    "\n",
    "columns_to_normalize2 = ['reading score']\n",
    "# 2] Zscore normalization - It transforms the values of a numerical variable to have a mean of 0 and a standard deviation of 1.\n",
    "for column in columns_to_normalize2:\n",
    "    df[column] = (df[column] - df[column].mean()) / df[column].std()\n",
    "df.head(5).to_string()"
   ]
  }
 ],
 "metadata": {
  "kernelspec": {
   "display_name": "Python 3 (ipykernel)",
   "language": "python",
   "name": "python3"
  },
  "language_info": {
   "codemirror_mode": {
    "name": "ipython",
    "version": 3
   },
   "file_extension": ".py",
   "mimetype": "text/x-python",
   "name": "python",
   "nbconvert_exporter": "python",
   "pygments_lexer": "ipython3",
   "version": "3.10.6"
  }
 },
 "nbformat": 4,
 "nbformat_minor": 5
}
