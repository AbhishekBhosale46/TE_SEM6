{
 "cells": [
  {
   "cell_type": "code",
   "execution_count": 1,
   "id": "5c58ab0c-4b65-45f9-b4f0-3d6b945d3d56",
   "metadata": {},
   "outputs": [],
   "source": [
    "import pandas as pd\n",
    "import numpy as np"
   ]
  },
  {
   "cell_type": "code",
   "execution_count": 2,
   "id": "be16f801-9310-4bb0-8297-7e0325255e80",
   "metadata": {},
   "outputs": [],
   "source": [
    "df = pd.read_csv('datasets/StudentsPerformance_modified.csv')"
   ]
  },
  {
   "cell_type": "code",
   "execution_count": 3,
   "id": "7702ddf0-97c2-4075-a532-5ede8376c2ba",
   "metadata": {},
   "outputs": [
    {
     "name": "stdout",
     "output_type": "stream",
     "text": [
      "   gender race/ethnicity parental level of education         lunch test preparation course math score  reading score  writing score\n",
      "0  female        group B           bachelor's degree      standard                    none         72           72.0           74.0\n",
      "1  female        group C                some college      standard               completed         69           90.0           88.0\n",
      "2  female        group B             master's degree      standard                    none         90           95.0           93.0\n",
      "3    male        group A          associate's degree  free/reduced                    none         47           57.0           44.0\n",
      "4    male        group C                some college      standard                    none         76           78.0           75.0\n",
      "5  female        group B          associate's degree      standard                    none         71           83.0           78.0\n",
      "6  female        group B                some college      standard               completed         88           95.0           92.0\n",
      "7    male        group B                some college  free/reduced                    none         40           43.0           39.0\n",
      "8    male        group D                 high school  free/reduced               completed         64           64.0           67.0\n",
      "9  female        group B                 high school  free/reduced                    none         38           60.0           50.0\n"
     ]
    }
   ],
   "source": [
    "print(df.head(10).to_string())"
   ]
  },
  {
   "cell_type": "code",
   "execution_count": 4,
   "id": "83cbc8a0-0cb5-45f5-9543-efe2a8390dd9",
   "metadata": {},
   "outputs": [
    {
     "name": "stdout",
     "output_type": "stream",
     "text": [
      "(Rows, Cols) : (1000, 8)\n"
     ]
    }
   ],
   "source": [
    "print(\"(Rows, Cols) :\", df.shape)"
   ]
  },
  {
   "cell_type": "code",
   "execution_count": 5,
   "id": "4af20947-6488-47f3-b5ac-614ecf165f18",
   "metadata": {},
   "outputs": [
    {
     "name": "stdout",
     "output_type": "stream",
     "text": [
      "Total cells : 8000\n"
     ]
    }
   ],
   "source": [
    "print(\"Total cells :\", df.size)"
   ]
  },
  {
   "cell_type": "code",
   "execution_count": 6,
   "id": "dd4886c5-deef-451a-a460-6527a2af9542",
   "metadata": {},
   "outputs": [
    {
     "name": "stdout",
     "output_type": "stream",
     "text": [
      "gender                          object\n",
      "race/ethnicity                  object\n",
      "parental level of education     object\n",
      "lunch                           object\n",
      "test preparation course         object\n",
      "math score                      object\n",
      "reading score                  float64\n",
      "writing score                  float64\n",
      "dtype: object\n"
     ]
    }
   ],
   "source": [
    "print(df.dtypes)"
   ]
  },
  {
   "cell_type": "code",
   "execution_count": 7,
   "id": "f9713cfe-d760-4a27-b6aa-b0b49fbade01",
   "metadata": {},
   "outputs": [
    {
     "name": "stdout",
     "output_type": "stream",
     "text": [
      "<class 'pandas.core.frame.DataFrame'>\n",
      "RangeIndex: 1000 entries, 0 to 999\n",
      "Data columns (total 8 columns):\n",
      " #   Column                       Non-Null Count  Dtype  \n",
      "---  ------                       --------------  -----  \n",
      " 0   gender                       1000 non-null   object \n",
      " 1   race/ethnicity               1000 non-null   object \n",
      " 2   parental level of education  1000 non-null   object \n",
      " 3   lunch                        1000 non-null   object \n",
      " 4   test preparation course      1000 non-null   object \n",
      " 5   math score                   992 non-null    object \n",
      " 6   reading score                994 non-null    float64\n",
      " 7   writing score                991 non-null    float64\n",
      "dtypes: float64(2), object(6)\n",
      "memory usage: 62.6+ KB\n",
      "None\n"
     ]
    }
   ],
   "source": [
    "print(df.info())"
   ]
  },
  {
   "cell_type": "code",
   "execution_count": 8,
   "id": "2408c02c-9003-4313-a22f-72c8ea130399",
   "metadata": {},
   "outputs": [
    {
     "name": "stdout",
     "output_type": "stream",
     "text": [
      "       reading score  writing score\n",
      "count     994.000000     991.000000\n",
      "mean       68.008048      69.487386\n",
      "std        16.602270      29.563757\n",
      "min         3.000000      10.000000\n",
      "25%        58.000000      57.000000\n",
      "50%        69.500000      69.000000\n",
      "75%        79.000000      79.000000\n",
      "max       100.000000     567.000000\n"
     ]
    }
   ],
   "source": [
    "# Provides statistics for numerical columns\n",
    "print(df.describe())"
   ]
  },
  {
   "cell_type": "code",
   "execution_count": 9,
   "id": "ecee5b44-efd7-4d1d-80d5-ddfb8caf926d",
   "metadata": {},
   "outputs": [],
   "source": [
    "# Data type conversion\n",
    "\n",
    "# converts to numeric, if any cell has non-numeric then fills it with NaN, then fill or drop the NaN cells\n",
    "df['math score'] = pd.to_numeric(df['math score'], errors=\"coerce\")\n",
    "df.dropna(subset=[\"math score\"], inplace=True)\n",
    "\n",
    "# convert object to categorical \n",
    "df['gender'] = df['gender'].astype('category')\n",
    "df['race/ethnicity'] = df['race/ethnicity'].astype('category')\n",
    "df['lunch'] = df['lunch'].astype('category')"
   ]
  },
  {
   "cell_type": "code",
   "execution_count": 10,
   "id": "9016decf-fba9-41b0-b6cf-785e27a86bf4",
   "metadata": {},
   "outputs": [
    {
     "data": {
      "text/html": [
       "<div>\n",
       "<style scoped>\n",
       "    .dataframe tbody tr th:only-of-type {\n",
       "        vertical-align: middle;\n",
       "    }\n",
       "\n",
       "    .dataframe tbody tr th {\n",
       "        vertical-align: top;\n",
       "    }\n",
       "\n",
       "    .dataframe thead th {\n",
       "        text-align: right;\n",
       "    }\n",
       "</style>\n",
       "<table border=\"1\" class=\"dataframe\">\n",
       "  <thead>\n",
       "    <tr style=\"text-align: right;\">\n",
       "      <th></th>\n",
       "      <th>gender</th>\n",
       "      <th>race/ethnicity</th>\n",
       "      <th>parental level of education</th>\n",
       "      <th>lunch</th>\n",
       "      <th>test preparation course</th>\n",
       "      <th>math score</th>\n",
       "      <th>reading score</th>\n",
       "      <th>writing score</th>\n",
       "    </tr>\n",
       "  </thead>\n",
       "  <tbody>\n",
       "    <tr>\n",
       "      <th>0</th>\n",
       "      <td>False</td>\n",
       "      <td>False</td>\n",
       "      <td>False</td>\n",
       "      <td>False</td>\n",
       "      <td>False</td>\n",
       "      <td>False</td>\n",
       "      <td>False</td>\n",
       "      <td>False</td>\n",
       "    </tr>\n",
       "    <tr>\n",
       "      <th>1</th>\n",
       "      <td>False</td>\n",
       "      <td>False</td>\n",
       "      <td>False</td>\n",
       "      <td>False</td>\n",
       "      <td>False</td>\n",
       "      <td>False</td>\n",
       "      <td>False</td>\n",
       "      <td>False</td>\n",
       "    </tr>\n",
       "    <tr>\n",
       "      <th>2</th>\n",
       "      <td>False</td>\n",
       "      <td>False</td>\n",
       "      <td>False</td>\n",
       "      <td>False</td>\n",
       "      <td>False</td>\n",
       "      <td>False</td>\n",
       "      <td>False</td>\n",
       "      <td>False</td>\n",
       "    </tr>\n",
       "    <tr>\n",
       "      <th>3</th>\n",
       "      <td>False</td>\n",
       "      <td>False</td>\n",
       "      <td>False</td>\n",
       "      <td>False</td>\n",
       "      <td>False</td>\n",
       "      <td>False</td>\n",
       "      <td>False</td>\n",
       "      <td>False</td>\n",
       "    </tr>\n",
       "    <tr>\n",
       "      <th>4</th>\n",
       "      <td>False</td>\n",
       "      <td>False</td>\n",
       "      <td>False</td>\n",
       "      <td>False</td>\n",
       "      <td>False</td>\n",
       "      <td>False</td>\n",
       "      <td>False</td>\n",
       "      <td>False</td>\n",
       "    </tr>\n",
       "    <tr>\n",
       "      <th>...</th>\n",
       "      <td>...</td>\n",
       "      <td>...</td>\n",
       "      <td>...</td>\n",
       "      <td>...</td>\n",
       "      <td>...</td>\n",
       "      <td>...</td>\n",
       "      <td>...</td>\n",
       "      <td>...</td>\n",
       "    </tr>\n",
       "    <tr>\n",
       "      <th>995</th>\n",
       "      <td>False</td>\n",
       "      <td>False</td>\n",
       "      <td>False</td>\n",
       "      <td>False</td>\n",
       "      <td>False</td>\n",
       "      <td>False</td>\n",
       "      <td>False</td>\n",
       "      <td>False</td>\n",
       "    </tr>\n",
       "    <tr>\n",
       "      <th>996</th>\n",
       "      <td>False</td>\n",
       "      <td>False</td>\n",
       "      <td>False</td>\n",
       "      <td>False</td>\n",
       "      <td>False</td>\n",
       "      <td>False</td>\n",
       "      <td>False</td>\n",
       "      <td>False</td>\n",
       "    </tr>\n",
       "    <tr>\n",
       "      <th>997</th>\n",
       "      <td>False</td>\n",
       "      <td>False</td>\n",
       "      <td>False</td>\n",
       "      <td>False</td>\n",
       "      <td>False</td>\n",
       "      <td>False</td>\n",
       "      <td>False</td>\n",
       "      <td>False</td>\n",
       "    </tr>\n",
       "    <tr>\n",
       "      <th>998</th>\n",
       "      <td>False</td>\n",
       "      <td>False</td>\n",
       "      <td>False</td>\n",
       "      <td>False</td>\n",
       "      <td>False</td>\n",
       "      <td>False</td>\n",
       "      <td>False</td>\n",
       "      <td>False</td>\n",
       "    </tr>\n",
       "    <tr>\n",
       "      <th>999</th>\n",
       "      <td>False</td>\n",
       "      <td>False</td>\n",
       "      <td>False</td>\n",
       "      <td>False</td>\n",
       "      <td>False</td>\n",
       "      <td>False</td>\n",
       "      <td>False</td>\n",
       "      <td>False</td>\n",
       "    </tr>\n",
       "  </tbody>\n",
       "</table>\n",
       "<p>957 rows × 8 columns</p>\n",
       "</div>"
      ],
      "text/plain": [
       "     gender  race/ethnicity  parental level of education  lunch  \\\n",
       "0     False           False                        False  False   \n",
       "1     False           False                        False  False   \n",
       "2     False           False                        False  False   \n",
       "3     False           False                        False  False   \n",
       "4     False           False                        False  False   \n",
       "..      ...             ...                          ...    ...   \n",
       "995   False           False                        False  False   \n",
       "996   False           False                        False  False   \n",
       "997   False           False                        False  False   \n",
       "998   False           False                        False  False   \n",
       "999   False           False                        False  False   \n",
       "\n",
       "     test preparation course  math score  reading score  writing score  \n",
       "0                      False       False          False          False  \n",
       "1                      False       False          False          False  \n",
       "2                      False       False          False          False  \n",
       "3                      False       False          False          False  \n",
       "4                      False       False          False          False  \n",
       "..                       ...         ...            ...            ...  \n",
       "995                    False       False          False          False  \n",
       "996                    False       False          False          False  \n",
       "997                    False       False          False          False  \n",
       "998                    False       False          False          False  \n",
       "999                    False       False          False          False  \n",
       "\n",
       "[957 rows x 8 columns]"
      ]
     },
     "execution_count": 10,
     "metadata": {},
     "output_type": "execute_result"
    }
   ],
   "source": [
    "# Returns a same dataframe, but with true/false if null values present\n",
    "df.isnull()"
   ]
  },
  {
   "cell_type": "code",
   "execution_count": 11,
   "id": "c3e6722a-6ee3-43a8-97af-af9753c3dba1",
   "metadata": {},
   "outputs": [
    {
     "data": {
      "text/plain": [
       "gender                         0\n",
       "race/ethnicity                 0\n",
       "parental level of education    0\n",
       "lunch                          0\n",
       "test preparation course        0\n",
       "math score                     0\n",
       "reading score                  6\n",
       "writing score                  8\n",
       "dtype: int64"
      ]
     },
     "execution_count": 11,
     "metadata": {},
     "output_type": "execute_result"
    }
   ],
   "source": [
    "# Count of null values in each column\n",
    "df.isnull().sum()"
   ]
  },
  {
   "cell_type": "code",
   "execution_count": 12,
   "id": "0374b819-ffde-4705-9810-1ef09db4af56",
   "metadata": {},
   "outputs": [],
   "source": [
    "# Removing null values\n",
    "\n",
    "# 1] Remove the entire row\n",
    "df.dropna(inplace=True)\n",
    "\n",
    "# 2] Replace with mean, median, mode\n",
    "reading_score_mean = df['reading score'].mean()\n",
    "writing_score_mean = df['writing score'].mean()\n",
    "df['reading score'].fillna(reading_score_mean, inplace=True)\n",
    "df['writing score'].fillna(writing_score_mean, inplace=True)\n",
    "\n",
    "# 3] Using forward fill or backward fill\n",
    "df.ffill(inplace=True)\n",
    "df.bfill(inplace=True)"
   ]
  },
  {
   "cell_type": "code",
   "execution_count": 13,
   "id": "4cf44b60-73a0-45e2-a501-377a42695895",
   "metadata": {},
   "outputs": [
    {
     "name": "stdout",
     "output_type": "stream",
     "text": [
      "<class 'pandas.core.frame.DataFrame'>\n",
      "Int64Index: 943 entries, 0 to 999\n",
      "Data columns (total 14 columns):\n",
      " #   Column                       Non-Null Count  Dtype  \n",
      "---  ------                       --------------  -----  \n",
      " 0   parental level of education  943 non-null    object \n",
      " 1   test preparation course      943 non-null    object \n",
      " 2   math score                   943 non-null    float64\n",
      " 3   reading score                943 non-null    float64\n",
      " 4   writing score                943 non-null    float64\n",
      " 5   gender_female                943 non-null    uint8  \n",
      " 6   gender_male                  943 non-null    uint8  \n",
      " 7   lunch_free/reduced           943 non-null    uint8  \n",
      " 8   lunch_standard               943 non-null    uint8  \n",
      " 9   race/ethnicity_group A       943 non-null    uint8  \n",
      " 10  race/ethnicity_group B       943 non-null    uint8  \n",
      " 11  race/ethnicity_group C       943 non-null    uint8  \n",
      " 12  race/ethnicity_group D       943 non-null    uint8  \n",
      " 13  race/ethnicity_group E       943 non-null    uint8  \n",
      "dtypes: float64(3), object(2), uint8(9)\n",
      "memory usage: 52.5+ KB\n"
     ]
    },
    {
     "data": {
      "text/plain": [
       "\"   gender race/ethnicity parental level of education         lunch test preparation course  math score  reading score  writing score\\n0       0        group B           bachelor's degree      standard                    none        72.0           72.0           74.0\\n1       0        group C                some college      standard               completed        69.0           90.0           88.0\\n2       0        group B             master's degree      standard                    none        90.0           95.0           93.0\\n3       1        group A          associate's degree  free/reduced                    none        47.0           57.0           44.0\\n4       1        group C                some college      standard                    none        76.0           78.0           75.0\""
      ]
     },
     "execution_count": 13,
     "metadata": {},
     "output_type": "execute_result"
    }
   ],
   "source": [
    "# Converting categorical variables to quantitative variables\n",
    "\n",
    "# 1] One hot encoding - Creates binary columns for each category in a categorical variable, with 1s indicating the presence of a category and 0s indicating the absence.\n",
    "df_encoded = pd.get_dummies(df, columns = ['gender', 'lunch', 'race/ethnicity'])\n",
    "df_encoded.info()\n",
    "df.head(5).to_string()\n",
    "\n",
    "# 2] Label encoding - Label encoding assigns a unique integer to each category in a categorical variable.\n",
    "from sklearn.preprocessing import LabelEncoder\n",
    "label_encoder = LabelEncoder()\n",
    "df['gender'] = label_encoder.fit_transform(df['gender'])\n",
    "df.head(5).to_string()"
   ]
  },
  {
   "cell_type": "code",
   "execution_count": 14,
   "id": "f3d9a534-4a1f-4ea5-a544-04b51d29c1d9",
   "metadata": {},
   "outputs": [
    {
     "data": {
      "text/plain": [
       "\"   gender race/ethnicity parental level of education         lunch test preparation course  math score  reading score  writing score\\n0       0        group B           bachelor's degree      standard                    none    0.380615       0.219457           74.0\\n1       0        group C                some college      standard               completed    0.373522       1.344855           88.0\\n2       0        group B             master's degree      standard                    none    0.423168       1.657465           93.0\\n3       1        group A          associate's degree  free/reduced                    none    0.321513      -0.718374           44.0\\n4       1        group C                some college      standard                    none    0.390071       0.594590           75.0\""
      ]
     },
     "execution_count": 14,
     "metadata": {},
     "output_type": "execute_result"
    }
   ],
   "source": [
    "# Normalization\n",
    "\n",
    "columns_to_normalize1 = ['math score']\n",
    "\n",
    "# 1] MinMax normalization - It rescales the values of a numerical variable to a fixed range, typically between 0 and 1.\n",
    "for column in columns_to_normalize1:\n",
    "    df[column] = (df[column] - df[column].min()) / (df[column].max() - df[column].min())\n",
    "df.head(5).to_string()\n",
    "\n",
    "columns_to_normalize2 = ['reading score']\n",
    "# 2] Zscore normalization - It transforms the values of a numerical variable to have a mean of 0 and a standard deviation of 1.\n",
    "for column in columns_to_normalize2:\n",
    "    df[column] = (df[column] - df[column].mean()) / df[column].std()\n",
    "df.head(5).to_string()"
   ]
  }
 ],
 "metadata": {
  "kernelspec": {
   "display_name": "Python 3 (ipykernel)",
   "language": "python",
   "name": "python3"
  },
  "language_info": {
   "codemirror_mode": {
    "name": "ipython",
    "version": 3
   },
   "file_extension": ".py",
   "mimetype": "text/x-python",
   "name": "python",
   "nbconvert_exporter": "python",
   "pygments_lexer": "ipython3",
   "version": "3.10.6"
  }
 },
 "nbformat": 4,
 "nbformat_minor": 5
}
