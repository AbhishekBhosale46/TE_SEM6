{
 "cells": [
  {
   "cell_type": "code",
   "execution_count": null,
   "id": "4c2b1075-fcc1-4451-ae14-cc67b38e6e93",
   "metadata": {},
   "outputs": [],
   "source": [
    "import pandas as pd\n",
    "import seaborn as sb"
   ]
  },
  {
   "cell_type": "code",
   "execution_count": null,
   "id": "477fca7b-bf3f-42eb-8913-7f8f0dbdce7e",
   "metadata": {},
   "outputs": [],
   "source": [
    "df = pd.read_csv('datasets/StudentsPerformance_modified.csv')\n",
    "df.head()\n",
    "df.info()"
   ]
  },
  {
   "cell_type": "code",
   "execution_count": null,
   "id": "b4ec3019-4181-4e39-8b11-432318f13344",
   "metadata": {},
   "outputs": [],
   "source": [
    "df['math score'] = pd.to_numeric(df['math score'], errors='coerce')\n",
    "df.dropna(inplace=True)\n",
    "df.info()"
   ]
  },
  {
   "cell_type": "code",
   "execution_count": null,
   "id": "b2f84ba1-b1e6-45e5-9891-62f4885558bd",
   "metadata": {},
   "outputs": [],
   "source": [
    "# Visualization to check for outliers\n",
    "\n",
    "\"\"\"\n",
    "Outliers are data points that fall significantly outside the overall pattern of the rest of the data.\n",
    "They can be very high or very low values compared to the majority of the data points.\n",
    "Outliers are extreme values that deviate from the main cluster of data.\n",
    "\"\"\""
   ]
  },
  {
   "cell_type": "code",
   "execution_count": null,
   "id": "5e00bb7e-4f4c-4579-900c-8c7d2bd96050",
   "metadata": {},
   "outputs": [],
   "source": [
    "sb.histplot(df['math score'])"
   ]
  },
  {
   "cell_type": "code",
   "execution_count": null,
   "id": "07037606-b21c-4486-9493-8ae84cea9b1e",
   "metadata": {},
   "outputs": [],
   "source": [
    "sb.boxplot(df['math score'])"
   ]
  },
  {
   "cell_type": "code",
   "execution_count": null,
   "id": "e1b0865c-ff8f-43d7-b6cf-44b83c6be88b",
   "metadata": {},
   "outputs": [],
   "source": [
    "sb.histplot(df['reading score'])"
   ]
  },
  {
   "cell_type": "code",
   "execution_count": null,
   "id": "76d8e3ee-c487-4780-b136-0ff046596683",
   "metadata": {},
   "outputs": [],
   "source": [
    "sb.boxplot(df['reading score'])"
   ]
  },
  {
   "cell_type": "code",
   "execution_count": null,
   "id": "f9a4760f-46e1-4998-a475-1294fd229189",
   "metadata": {},
   "outputs": [],
   "source": [
    "sb.histplot(df['writing score'])"
   ]
  },
  {
   "cell_type": "code",
   "execution_count": null,
   "id": "1cdcf575-dfbb-418d-8583-3bb3a724ee0c",
   "metadata": {},
   "outputs": [],
   "source": [
    "sb.boxplot(df['writing score'])"
   ]
  },
  {
   "cell_type": "code",
   "execution_count": null,
   "id": "348ccb02-6127-4066-b2b4-f13cade7b82f",
   "metadata": {},
   "outputs": [],
   "source": [
    "# Removing outliers\n",
    "\n",
    "def remove_outliers_zscore(df, column_name, threshold=3):\n",
    "    z_scores = (df[column_name] - df[column_name].mean()) / df[column_name].std()\n",
    "    outliers = abs(z_scores) > threshold\n",
    "    new_df = df[~outliers]\n",
    "    return new_df\n",
    "\n",
    "def remove_outliers_iqr(df, column_name):\n",
    "    Q1 = df[column_name].quantile(0.25)\n",
    "    Q3 = df[column_name].quantile(0.75)\n",
    "    IQR = Q3 - Q1\n",
    "    lower_bound = Q1 - 1.5 * IQR\n",
    "    upper_bound = Q3 + 1.5 * IQR\n",
    "    outliers = (df[column_name] < lower_bound) | (df[column_name] > upper_bound)\n",
    "    new_df = df[~outliers]\n",
    "    return new_df"
   ]
  },
  {
   "cell_type": "code",
   "execution_count": null,
   "id": "15a01dcf-d539-40ed-8d73-1b6a024cb2ab",
   "metadata": {},
   "outputs": [],
   "source": [
    "df = remove_outliers_iqr(df, 'math score')\n",
    "sb.boxplot(df['math score'])"
   ]
  },
  {
   "cell_type": "code",
   "execution_count": null,
   "id": "f8fce29e-5bb6-43b5-8e21-118daaaf6cf2",
   "metadata": {},
   "outputs": [],
   "source": []
  }
 ],
 "metadata": {
  "kernelspec": {
   "display_name": "Python 3 (ipykernel)",
   "language": "python",
   "name": "python3"
  },
  "language_info": {
   "codemirror_mode": {
    "name": "ipython",
    "version": 3
   },
   "file_extension": ".py",
   "mimetype": "text/x-python",
   "name": "python",
   "nbconvert_exporter": "python",
   "pygments_lexer": "ipython3",
   "version": "3.10.6"
  }
 },
 "nbformat": 4,
 "nbformat_minor": 5
}
