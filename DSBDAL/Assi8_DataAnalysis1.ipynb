{
 "cells": [
  {
   "cell_type": "code",
   "execution_count": null,
   "id": "45eaa03c-4c71-4a06-8a85-22a6d07455c5",
   "metadata": {},
   "outputs": [],
   "source": [
    "import pandas as pd"
   ]
  },
  {
   "cell_type": "code",
   "execution_count": null,
   "id": "0d892260-294b-4ac7-a8c5-d1e0d602cd6f",
   "metadata": {},
   "outputs": [],
   "source": [
    "df = pd.read_csv('datasets/HousingData.csv')"
   ]
  },
  {
   "cell_type": "code",
   "execution_count": null,
   "id": "c77f56dd-5361-4bdc-8747-6973239c2ad0",
   "metadata": {},
   "outputs": [],
   "source": [
    "%%capture\n",
    "\"\"\"\n",
    "CRIM - per capita crime rate by town\n",
    "ZN - proportion of residential land zoned for lots over 25,000 sq.ft.\n",
    "INDUS - proportion of non-retail business acres per town.\n",
    "CHAS - Charles River dummy variable (1 if tract bounds river; 0 otherwise)\n",
    "NOX - nitric oxides concentration (parts per 10 million)\n",
    "RM - average number of rooms per dwelling\n",
    "AGE - proportion of owner-occupied units built prior to 1940\n",
    "DIS - weighted distances to five Boston employment centres\n",
    "RAD - index of accessibility to radial highways\n",
    "TAX - full-value property-tax rate per $10,000\n",
    "PTRATIO - pupil-teacher ratio by town\n",
    "B - 1000(Bk - 0.63)^2 where Bk is the proportion of blacks by town\n",
    "LSTAT - % lower status of the population\n",
    "MEDV - Median value of owner-occupied homes in $1000's\n",
    "\"\"\""
   ]
  },
  {
   "cell_type": "code",
   "execution_count": null,
   "id": "213d31db-9d3f-4553-83f1-751f4cad114d",
   "metadata": {},
   "outputs": [],
   "source": [
    "df.head()"
   ]
  },
  {
   "cell_type": "code",
   "execution_count": null,
   "id": "9b8f1e71-f3b4-4145-a331-51e735ac568f",
   "metadata": {},
   "outputs": [],
   "source": [
    "df.info()"
   ]
  },
  {
   "cell_type": "code",
   "execution_count": null,
   "id": "35b54f54-c5e8-4272-9dc2-b60f51dbfa4b",
   "metadata": {},
   "outputs": [],
   "source": [
    "df.isnull().sum()"
   ]
  },
  {
   "cell_type": "code",
   "execution_count": null,
   "id": "89c7ac91-833f-48d4-83ed-abe8cf4fe072",
   "metadata": {},
   "outputs": [],
   "source": [
    "df.dropna(inplace=True)\n",
    "df.isnull().sum()"
   ]
  },
  {
   "cell_type": "code",
   "execution_count": null,
   "id": "c8812aae-789e-41ac-bbad-5ccc26693adb",
   "metadata": {},
   "outputs": [],
   "source": [
    "\"\"\"\n",
    "X (Independent Variable) - Independent variables, also known as predictor variables or features, are the variables that \n",
    "are used to predict or explain the outcome of interest.\n",
    "\n",
    "Y (Target Variable) - The target variable, is the variable that is being predicted or explained by the independent variables.\n",
    "\"\"\"\n",
    "\n",
    "\"\"\"\n",
    "We will be plotting scatter plots and corr matri to determine which valuescan be used as X\n",
    "\"\"\"\n",
    "import seaborn as sb\n",
    "import matplotlib.pyplot as plt\n",
    "\n",
    "for column in df.columns:\n",
    "    sb.scatterplot(x=df['MEDV'], y=df[column])\n",
    "    plt.show()\n",
    "\n",
    "df.corr(method='pearson')['MEDV']"
   ]
  },
  {
   "cell_type": "code",
   "execution_count": null,
   "id": "a870b32e-ee9e-40f0-a4cc-d65881ad361f",
   "metadata": {},
   "outputs": [],
   "source": [
    "\"\"\"\n",
    "From above we will decide X\n",
    "\"\"\"\n",
    "X = df[['INDUS', 'TAX', 'NOX', 'RM', 'AGE', 'PTRATIO', 'LSTAT']]\n",
    "Y = df[['MEDV']]"
   ]
  },
  {
   "cell_type": "code",
   "execution_count": null,
   "id": "1ef3c5ea-ea55-40d1-8f72-c97882c0b09a",
   "metadata": {},
   "outputs": [],
   "source": [
    "\"\"\"\n",
    "Split the datasets into train and test\n",
    "\"\"\"\n",
    "from sklearn.model_selection import train_test_split\n",
    "\n",
    "X_train, X_test, Y_train, Y_test = train_test_split(X, Y, test_size=0.2)"
   ]
  },
  {
   "cell_type": "code",
   "execution_count": null,
   "id": "45838b3d-f318-460c-8c18-1031ea16e8c8",
   "metadata": {},
   "outputs": [],
   "source": [
    "\"\"\"\n",
    "Train the model using train data\n",
    "\"\"\"\n",
    "from sklearn.linear_model import LinearRegression\n",
    "\n",
    "model = LinearRegression()\n",
    "model.fit(X_train, Y_train)"
   ]
  },
  {
   "cell_type": "code",
   "execution_count": null,
   "id": "208148df-a2da-439f-b002-50d6b5299d17",
   "metadata": {},
   "outputs": [],
   "source": [
    "\"\"\"\n",
    "Predict on testing data and evaluating the model\n",
    "\"\"\"\n",
    "from sklearn.metrics import mean_squared_error, mean_absolute_error\n",
    "\n",
    "Y_pred = model.predict(X_test)\n",
    "mse = mean_squared_error(Y_test, Y_pred)\n",
    "print(\"Mean Squared Error : \", mse)"
   ]
  },
  {
   "cell_type": "code",
   "execution_count": null,
   "id": "7e491a22-142f-4eb9-a857-2e6c4b3256a6",
   "metadata": {},
   "outputs": [],
   "source": [
    "\"\"\"\n",
    "Plotting actual vs predicted\n",
    "\"\"\"\n",
    "import matplotlib.pyplot as plt\n",
    "\n",
    "plt.scatter(Y_test, Y_pred)\n",
    "plt.xlabel('Actual Prices')\n",
    "plt.ylabel('Predicted Prices')\n",
    "plt.title('Actual vs Predicted Prices')\n",
    "plt.show()"
   ]
  }
 ],
 "metadata": {
  "kernelspec": {
   "display_name": "Python 3 (ipykernel)",
   "language": "python",
   "name": "python3"
  },
  "language_info": {
   "codemirror_mode": {
    "name": "ipython",
    "version": 3
   },
   "file_extension": ".py",
   "mimetype": "text/x-python",
   "name": "python",
   "nbconvert_exporter": "python",
   "pygments_lexer": "ipython3",
   "version": "3.10.6"
  }
 },
 "nbformat": 4,
 "nbformat_minor": 5
}
