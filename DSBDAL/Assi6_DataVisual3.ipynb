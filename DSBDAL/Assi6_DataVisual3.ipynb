{
 "cells": [
  {
   "cell_type": "code",
   "execution_count": null,
   "id": "eafeb162-8278-4963-a769-98a3c9119f9f",
   "metadata": {},
   "outputs": [],
   "source": [
    "import pandas as pd\n",
    "import seaborn as sb\n",
    "import matplotlib.pyplot as plt"
   ]
  },
  {
   "cell_type": "code",
   "execution_count": null,
   "id": "39c4e2aa-2896-49e1-a33a-bac00fea961e",
   "metadata": {},
   "outputs": [],
   "source": [
    "df = pd.read_csv('datasets/Iris.csv')"
   ]
  },
  {
   "cell_type": "code",
   "execution_count": null,
   "id": "a7ff406d-2923-475d-b85d-234441587091",
   "metadata": {},
   "outputs": [],
   "source": [
    "df.head()"
   ]
  },
  {
   "cell_type": "code",
   "execution_count": null,
   "id": "bd7c5fde-9e2b-4683-bf48-6aa1dbf2f2e7",
   "metadata": {},
   "outputs": [],
   "source": [
    "df.info()"
   ]
  },
  {
   "cell_type": "code",
   "execution_count": null,
   "id": "ddb5c424-f51e-4cf5-9119-8f91adb29e9f",
   "metadata": {},
   "outputs": [],
   "source": [
    "df.dtypes"
   ]
  },
  {
   "cell_type": "code",
   "execution_count": null,
   "id": "5b9738dd-dabc-4b44-821c-d32325f35d8a",
   "metadata": {},
   "outputs": [],
   "source": [
    "df.describe()"
   ]
  },
  {
   "cell_type": "code",
   "execution_count": null,
   "id": "cf332a86-f95e-4b61-ac00-8c1d36b73fe7",
   "metadata": {},
   "outputs": [],
   "source": [
    "print(\"Numeric features : SepalLength, SepalWidth, PetalLength, PetalWidth\")\n",
    "print(\"Nominal features : Species\")"
   ]
  },
  {
   "cell_type": "code",
   "execution_count": null,
   "id": "0c2e1adc-9593-4bc5-a5ea-0ca650b5903d",
   "metadata": {},
   "outputs": [],
   "source": [
    "df['Species'] = df['Species'].astype('category')"
   ]
  },
  {
   "cell_type": "code",
   "execution_count": null,
   "id": "05999b57-cc35-4119-a9bc-c311337a405c",
   "metadata": {},
   "outputs": [],
   "source": [
    "\"\"\"\n",
    "Visulatization of feature distributions using histogram\n",
    "\"\"\"\n",
    "sb.histplot(data=df, x='SepalLengthCm', bins=15)\n",
    "plt.show()\n",
    "sb.histplot(data=df, x='SepalWidthCm', bins=15)\n",
    "plt.show()\n",
    "sb.histplot(data=df, x='PetalLengthCm', bins=15)\n",
    "plt.show()\n",
    "sb.histplot(data=df, x='PetalWidthCm', bins=15)\n",
    "plt.show()"
   ]
  },
  {
   "cell_type": "code",
   "execution_count": null,
   "id": "166595de-b0dc-49ea-9d3b-e8db5eb44f4b",
   "metadata": {},
   "outputs": [],
   "source": [
    "\"\"\"\n",
    "Visualization using Box Plot for each feature\n",
    "\"\"\"\n",
    "sb.boxplot(data=df['SepalLengthCm'])\n",
    "plt.show()\n",
    "sb.boxplot(data=df['SepalWidthCm'])\n",
    "plt.show()\n",
    "sb.boxplot(data=df['PetalLengthCm'])\n",
    "plt.show()\n",
    "sb.boxplot(data=df['PetalWidthCm'])\n",
    "plt.show()\n",
    "sb.boxplot(data=(df.drop([\"Id\", \"Species\"], axis=1)))\n",
    "plt.show()"
   ]
  },
  {
   "cell_type": "code",
   "execution_count": null,
   "id": "a50b7e88-ea4f-4c26-857a-1943c92f6d16",
   "metadata": {},
   "outputs": [],
   "source": [
    "\"\"\"\n",
    "Visualization of numeric against nominal using boxplot\n",
    "\"\"\"\n",
    "sb.boxplot(data=df, x='Species', y='SepalLengthCm')\n",
    "plt.show()\n",
    "sb.boxplot(data=df, x='Species', y='SepalWidthCm')\n",
    "plt.show()\n",
    "sb.boxplot(data=df, x='Species', y='PetalLengthCm')\n",
    "plt.show()\n",
    "sb.boxplot(data=df, x='Species', y='PetalWidthCm')\n",
    "plt.show()"
   ]
  }
 ],
 "metadata": {
  "kernelspec": {
   "display_name": "Python 3 (ipykernel)",
   "language": "python",
   "name": "python3"
  },
  "language_info": {
   "codemirror_mode": {
    "name": "ipython",
    "version": 3
   },
   "file_extension": ".py",
   "mimetype": "text/x-python",
   "name": "python",
   "nbconvert_exporter": "python",
   "pygments_lexer": "ipython3",
   "version": "3.10.6"
  }
 },
 "nbformat": 4,
 "nbformat_minor": 5
}
