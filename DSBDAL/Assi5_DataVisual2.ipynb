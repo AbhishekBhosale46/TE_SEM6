{
 "cells": [
  {
   "cell_type": "code",
   "execution_count": null,
   "id": "11642649-799c-41d4-a293-742dafb8c7de",
   "metadata": {},
   "outputs": [],
   "source": [
    "import pandas as pd\n",
    "import seaborn as sb\n",
    "\n",
    "import matplotlib.pyplot as plt"
   ]
  },
  {
   "cell_type": "code",
   "execution_count": null,
   "id": "fa163243-908c-4149-8c81-e80c3dc4a9fb",
   "metadata": {},
   "outputs": [],
   "source": [
    "df = pd.read_csv('datasets/titanic.csv')"
   ]
  },
  {
   "cell_type": "code",
   "execution_count": null,
   "id": "6b0d8150-a032-4649-8c63-0a2766c7af9a",
   "metadata": {},
   "outputs": [],
   "source": [
    "df.head()"
   ]
  },
  {
   "cell_type": "code",
   "execution_count": null,
   "id": "b6c3bf62-56ce-4f20-9496-9a7d7fd600f9",
   "metadata": {},
   "outputs": [],
   "source": [
    "df.info()"
   ]
  },
  {
   "cell_type": "code",
   "execution_count": null,
   "id": "2cb6ad94-c2f7-4bf6-9704-4b00d13913d5",
   "metadata": {},
   "outputs": [],
   "source": [
    "sb.boxplot(data=df, x='Sex', y='Age', hue='Survived')\n",
    "plt.show()\n",
    "sb.boxplot(x=df['Sex'], y=df['Age'])\n",
    "plt.show()"
   ]
  }
 ],
 "metadata": {
  "kernelspec": {
   "display_name": "Python 3 (ipykernel)",
   "language": "python",
   "name": "python3"
  },
  "language_info": {
   "codemirror_mode": {
    "name": "ipython",
    "version": 3
   },
   "file_extension": ".py",
   "mimetype": "text/x-python",
   "name": "python",
   "nbconvert_exporter": "python",
   "pygments_lexer": "ipython3",
   "version": "3.10.6"
  }
 },
 "nbformat": 4,
 "nbformat_minor": 5
}
